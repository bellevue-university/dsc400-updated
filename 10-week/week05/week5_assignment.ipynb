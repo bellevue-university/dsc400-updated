{
  "cells": [
    {
      "cell_type": "markdown",
      "source": [
        "# Part 1: Introduction to Machine Learning in Big Data\n",
        "\n",
        "## Introduction to Machine Learning in Big Data:\n",
        "Machine learning involves teaching computers to learn from data, identify patterns,\n",
        "and make decisions with minimal human intervention. With big data, these processes\n",
        "involve larger datasets and require more advanced techniques to manage and analyze data effectively.\n",
        "\n",
        "### Key ML Concepts:\n",
        "- **Supervised Learning:** In supervised learning, the algorithm learns from labeled data, i.e., data that is already tagged with the correct answer. It learns to predict the output from the input data.\n",
        "- **Unsupervised Learning:** Unsupervised learning allows the algorithm to act on its own to discover patterns in the data. It explores the data and identifies hidden structures without any prior information about labels.\n",
        "- **Model Evaluation:** Model evaluation is essential to assess the performance of a machine learning model. Metrics such as accuracy, precision, recall, and F1 score are commonly used to measure how well the model performs on unseen data.\n",
        "\n",
        "### Python Libraries for ML:\n",
        "- `scikit-learn`: Scikit-learn is a comprehensive library for machine learning in Python. It provides simple and efficient tools for data mining and data analysis, built on NumPy, SciPy, and Matplotlib.\n",
        "- `pyspark MLlib`: MLlib is Apache Spark's scalable machine learning library. It provides a wide range of algorithms and utilities for large-scale machine learning tasks, including classification, regression, clustering, and collaborative filtering.\n",
        "\n",
        "### Challenges of ML with Big Data:\n",
        "- **Scalability:** Dealing with large volumes of data requires algorithms and techniques that can scale efficiently to handle the increased computational load.\n",
        "- **Data Quality:** Big data often comes with challenges related to data quality, such as missing values, inconsistencies, and noise. Managing and cleaning such data is crucial for building accurate machine learning models.\n",
        "- **Computational Complexity:** Processing and analyzing large datasets can be computationally intensive and time-consuming. Efficient algorithms and distributed computing frameworks like Apache Spark are necessary to tackle these challenges effectively.\n"
      ],
      "metadata": {
        "id": "XZ7FwKtufcPq"
      },
      "id": "XZ7FwKtufcPq"
    },
    {
      "cell_type": "markdown",
      "source": [
        "# Part 2: Follow Me - Building a Machine Learning Model with scikit-learn\n"
      ],
      "metadata": {
        "id": "4NlBdkpif2cV"
      },
      "id": "4NlBdkpif2cV"
    },
    {
      "cell_type": "code",
      "execution_count": 1,
      "id": "d84fc13f",
      "metadata": {
        "id": "d84fc13f"
      },
      "outputs": [],
      "source": [
        "import pandas as pd\n",
        "from sklearn.model_selection import train_test_split\n",
        "from sklearn.ensemble import RandomForestClassifier\n",
        "from sklearn.metrics import classification_report\n",
        "from sklearn.preprocessing import LabelEncoder"
      ]
    },
    {
      "cell_type": "code",
      "execution_count": 2,
      "id": "7217344e",
      "metadata": {
        "colab": {
          "base_uri": "https://localhost:8080/"
        },
        "id": "7217344e",
        "outputId": "f12cabf7-0b7e-445f-a5f5-2fd086ad53f8"
      },
      "outputs": [
        {
          "output_type": "stream",
          "name": "stdout",
          "text": [
            "Data loaded successfully.\n"
          ]
        }
      ],
      "source": [
        "# Step 1: Loading Data\n",
        "# Load the healthcare dataset from a CSV file into a pandas DataFrame.\n",
        "healthcare_df = pd.read_csv('healthcare.csv')\n",
        "print(\"Data loaded successfully.\")"
      ]
    },
    {
      "cell_type": "code",
      "execution_count": 3,
      "id": "e9852479",
      "metadata": {
        "id": "e9852479"
      },
      "outputs": [],
      "source": [
        "# Step 2: Data Preprocessing\n",
        "# Check for missing values and handle them as necessary (omitted here for brevity).\n",
        "# Assuming the target variable 'Disease_Presence' is categorical and needs encoding if it's in string format.\n",
        "le = LabelEncoder()\n",
        "healthcare_df['Disease_Presence'] = le.fit_transform(healthcare_df['Disease_Presence'])"
      ]
    },
    {
      "cell_type": "code",
      "execution_count": 4,
      "id": "f3fa7004",
      "metadata": {
        "colab": {
          "base_uri": "https://localhost:8080/"
        },
        "id": "f3fa7004",
        "outputId": "8012a9e6-82c5-4db1-d5ae-b09d286c2387"
      },
      "outputs": [
        {
          "output_type": "stream",
          "name": "stdout",
          "text": [
            "Data preprocessing completed.\n"
          ]
        }
      ],
      "source": [
        "# Separate the features and the target variable.\n",
        "X = healthcare_df.drop('Disease_Presence', axis=1)\n",
        "y = healthcare_df['Disease_Presence']\n",
        "print(\"Data preprocessing completed.\")"
      ]
    },
    {
      "cell_type": "code",
      "execution_count": 5,
      "id": "2d3da009",
      "metadata": {
        "colab": {
          "base_uri": "https://localhost:8080/"
        },
        "id": "2d3da009",
        "outputId": "f212e86e-0b83-46d7-afdd-175dfe6c31d9"
      },
      "outputs": [
        {
          "output_type": "stream",
          "name": "stdout",
          "text": [
            "Dataset split into training and testing sets.\n"
          ]
        }
      ],
      "source": [
        "# Step 3: Splitting the Dataset\n",
        "# Split the dataset into training and testing sets to evaluate the model's performance.\n",
        "X_train, X_test, y_train, y_test = train_test_split(X, y, test_size=0.3, random_state=42)\n",
        "print(\"Dataset split into training and testing sets.\")"
      ]
    },
    {
      "cell_type": "code",
      "execution_count": 6,
      "id": "c0ccfe0a",
      "metadata": {
        "colab": {
          "base_uri": "https://localhost:8080/"
        },
        "id": "c0ccfe0a",
        "outputId": "e5f563ba-77eb-4429-b9f7-bd042b2b52e1"
      },
      "outputs": [
        {
          "output_type": "stream",
          "name": "stdout",
          "text": [
            "Model training complete.\n"
          ]
        }
      ],
      "source": [
        "# Step 4: Model Building\n",
        "# Initialize and train a Random Forest Classifier.\n",
        "clf = RandomForestClassifier(n_estimators=100)\n",
        "clf.fit(X_train, y_train)\n",
        "print(\"Model training complete.\")"
      ]
    },
    {
      "cell_type": "code",
      "execution_count": 7,
      "id": "97e5eea3",
      "metadata": {
        "colab": {
          "base_uri": "https://localhost:8080/"
        },
        "id": "97e5eea3",
        "outputId": "80f44cbe-8e61-426e-ba89-f256b13162f7"
      },
      "outputs": [
        {
          "output_type": "stream",
          "name": "stdout",
          "text": [
            "Model evaluation results:\n",
            "              precision    recall  f1-score   support\n",
            "\n",
            "           0       0.48      0.46      0.47      1489\n",
            "           1       0.49      0.52      0.51      1511\n",
            "\n",
            "    accuracy                           0.49      3000\n",
            "   macro avg       0.49      0.49      0.49      3000\n",
            "weighted avg       0.49      0.49      0.49      3000\n",
            "\n"
          ]
        }
      ],
      "source": [
        "# Step 5: Model Evaluation\n",
        "# Use the test set to make predictions and evaluate the model.\n",
        "predictions = clf.predict(X_test)\n",
        "print(\"Model evaluation results:\")\n",
        "print(classification_report(y_test, predictions))"
      ]
    },
    {
      "cell_type": "markdown",
      "source": [
        "# Part 3: Your Turn - Advanced Data Processing Task\n",
        "\n",
        "This part of the course challenges you to engage in a comprehensive data processing project using Apache Spark. You will apply techniques learned in Part 2 to a new dataset, addressing real-world data complexities such as missing values, anomalies, and the need for advanced aggregations.\n",
        "\n",
        "## Data Exploration:\n",
        "- Investigate the 'Telecom Customer Churn' to discover patterns, insights, and anomalies. This step is crucial for understanding the data's structure and content before proceeding with transformations.\n",
        "\n",
        "## Data Cleaning:\n",
        "- Address any missing values or format inconsistencies in your dataset. This is essential to ensure the accuracy of your data processing and analysis.\n",
        "\n",
        "## Feature Engineering:\n",
        "- Enhance your dataset by creating new features that can provide more depth to your analysis. For example, you might calculate the duration of customer sessions or categorize user activity based on engagement levels.\n",
        "\n",
        "## Spark SQL:\n",
        "- Use Spark SQL to perform sophisticated data aggregations that reveal underlying trends. For instance, you might want to analyze the frequency of specific event types per customer or per session.\n",
        "\n",
        "\n",
        "## Advanced Aggregations:\n",
        "- Utilize Spark’s capabilities to perform complex aggregations like calculating the average session time per browser type or the total interactions per day.\n",
        "\n",
        "## Visualization and Reporting:\n",
        "- Create meaningful static and interactive visualizations to represent your findings using Spark or external libraries like `matplotlib` or `plotly`.\n",
        "- Craft visual representations of your analytical findings to showcase patterns and insights effectively.\n",
        "\n",
        "## Instructions:\n",
        "1. Load the 'Customer Interactions Dataset' into Spark and perform initial explorations to understand its structure.\n",
        "2. Conduct necessary data cleaning and feature engineering to prepare your data for deeper analysis.\n",
        "3. Use Spark SQL to perform detailed analyses.\n",
        "5. Compile your steps and insights into the Jupyter notebook and submit it as your completed assignment."
      ],
      "metadata": {
        "id": "UaLj6t02fxe3"
      },
      "id": "UaLj6t02fxe3"
    },
    {
      "cell_type": "code",
      "source": [
        "# Note: Replace 'telcom_customer_churn.csv' with the actual file path.\n",
        "telcom_customer_churn_df = pd.read_csv('telecom_customer_churn.csv')"
      ],
      "metadata": {
        "id": "S8-AHO16lzKa"
      },
      "id": "S8-AHO16lzKa",
      "execution_count": 9,
      "outputs": []
    }
  ],
  "metadata": {
    "jupytext": {
      "cell_metadata_filter": "-all",
      "main_language": "python",
      "notebook_metadata_filter": "-all"
    },
    "colab": {
      "provenance": []
    },
    "language_info": {
      "name": "python"
    },
    "kernelspec": {
      "name": "python3",
      "display_name": "Python 3"
    }
  },
  "nbformat": 4,
  "nbformat_minor": 5
}