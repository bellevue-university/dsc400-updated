{
  "cells": [
    {
      "cell_type": "markdown",
      "source": [
        "# Part 1:  Advanced Natural Language Processing (NLP)\n",
        "\n",
        "Introduction to NLP:\n",
        "- Natural Language Processing (NLP) is a field at the intersection of computer science, artificial intelligence, and linguistics. It involves understanding, interpreting, and manipulating human language by machines. NLP enables computers to read text, hear speech, interpret it, measure sentiment, and determine which parts are important.\n",
        "\n",
        "Core Concepts and Techniques:\n",
        "- Tokenization: The process of breaking text into individual terms or symbols.\n",
        "- Part-of-Speech Tagging: Identifies each word's part of speech (e.g., noun, verb, adjective) based on its definition and context.\n",
        "- Named Entity Recognition (NER): Locates and classifies named entities mentioned in text into predefined categories such as the names of persons, organizations, locations, expressions of times, quantities, monetary values, percentages, etc.\n",
        "- Dependency Parsing: Analyzes the grammatical structure of a sentence to establish relationships between \"head\" words and words which modify those heads.\n",
        "- Lemmatization and Stemming: Techniques to reduce words to their root form. Lemmatization considers the context and converts the word to its meaningful base form, whereas stemming chops off the ends of words in the hope of achieving this goal correctly.\n",
        "- Word Embeddings: Representations of text in an n-dimensional space where words that have the same meaning have a similar representation. Popular methods include Word2Vec and GloVe.\n",
        "\n",
        "Advanced Techniques:\n",
        "- Sentiment Analysis: Determines the attitude or emotion of the writer, i.e., whether it's positive, negative, or neutral.\n",
        "- Topic Modeling: Identifies the topics present in a text corpus, useful for document classification, summarization, and understanding the thematic structure of the text.\n",
        "\n",
        "Python Libraries for NLP:\n",
        "- `NLTK (Natural Language Toolkit)`: A leading platform for building Python programs to work with human language data. It provides easy-to-use interfaces to over 50 corpora and lexical resources.\n",
        "- `spaCy`: An industrial-strength NLP library that offers robust tools for performing complex NLP tasks like parsing, tagging, NER, and more.\n",
        "\n",
        "Applications of NLP:\n",
        "- From chatbots and virtual assistants to sentiment analysis in social media monitoring, NLP technologies are a cornerstone of artificial intelligence, profoundly impacting industries by providing insights from vast amounts of unstructured data.\n",
        "\n",
        "Challenges and Considerations:\n",
        "- Ambiguity and Diversity: Natural language is inherently ambiguous and diverse. Contextual nuances, sarcasm, idioms, and cultural differences present significant challenges for NLP systems.\n",
        "- Resource Intensiveness: Processing and understanding large volumes of text can be computationally intensive, requiring advanced algorithms and substantial hardware resources.\n",
        "\n"
      ],
      "metadata": {
        "id": "VGPxyHBVbJXm"
      },
      "id": "VGPxyHBVbJXm"
    },
    {
      "cell_type": "markdown",
      "source": [
        "# Part 2: Follow Me"
      ],
      "metadata": {
        "id": "aOo3y1rDnc6T"
      },
      "id": "aOo3y1rDnc6T"
    },
    {
      "cell_type": "markdown",
      "id": "a4171440",
      "metadata": {
        "id": "a4171440"
      },
      "source": [
        "Install necessary packages using pip\n",
        "pip install nltk\n",
        "pip install spacy"
      ]
    },
    {
      "cell_type": "code",
      "source": [
        "#Install Packages\n",
        "#!pip install nltk\n",
        "#!pip install spacy"
      ],
      "metadata": {
        "id": "66_b7ozWbTMs"
      },
      "id": "66_b7ozWbTMs",
      "execution_count": 1,
      "outputs": []
    },
    {
      "cell_type": "code",
      "execution_count": 2,
      "id": "2522f183",
      "metadata": {
        "id": "2522f183"
      },
      "outputs": [],
      "source": [
        "import nltk\n",
        "from nltk.sentiment import SentimentIntensityAnalyzer\n",
        "import spacy\n",
        "from spacy import displacy"
      ]
    },
    {
      "cell_type": "code",
      "execution_count": 3,
      "id": "c4d7bbe8",
      "metadata": {
        "colab": {
          "base_uri": "https://localhost:8080/"
        },
        "id": "c4d7bbe8",
        "outputId": "cbe36ac9-c95a-479f-bbbc-5345ccec87a9"
      },
      "outputs": [
        {
          "output_type": "stream",
          "name": "stderr",
          "text": [
            "[nltk_data] Downloading package vader_lexicon to /root/nltk_data...\n"
          ]
        },
        {
          "output_type": "stream",
          "name": "stdout",
          "text": [
            "\u001b[38;5;2m✔ Download and installation successful\u001b[0m\n",
            "You can now load the package via spacy.load('en_core_web_sm')\n",
            "\u001b[38;5;3m⚠ Restart to reload dependencies\u001b[0m\n",
            "If you are in a Jupyter or Colab notebook, you may need to restart Python in\n",
            "order to load all the package's dependencies. You can do this by selecting the\n",
            "'Restart kernel' or 'Restart runtime' option.\n"
          ]
        }
      ],
      "source": [
        "# Downloading necessary NLTK resources and spaCy model\n",
        "nltk.download('vader_lexicon')\n",
        "spacy.cli.download(\"en_core_web_sm\")"
      ]
    },
    {
      "cell_type": "code",
      "execution_count": 4,
      "id": "46cffdf0",
      "metadata": {
        "id": "46cffdf0"
      },
      "outputs": [],
      "source": [
        "# Load spaCy English tokenizer, tagger, parser, NER and word vectors\n",
        "nlp = spacy.load(\"en_core_web_sm\")"
      ]
    },
    {
      "cell_type": "code",
      "execution_count": 5,
      "id": "8efb9671",
      "metadata": {
        "id": "8efb9671"
      },
      "outputs": [],
      "source": [
        "# Sentiment Analysis with NLTK\n",
        "# Initialize the VADER sentiment intensity analyzer\n",
        "sia = SentimentIntensityAnalyzer()"
      ]
    },
    {
      "cell_type": "code",
      "execution_count": 6,
      "id": "e2d09bc8",
      "metadata": {
        "id": "e2d09bc8"
      },
      "outputs": [],
      "source": [
        "# Example text for sentiment analysis\n",
        "text = \"NLTK is a leading platform for building Python programs to work with human language data.\""
      ]
    },
    {
      "cell_type": "code",
      "execution_count": 7,
      "id": "0c56fb20",
      "metadata": {
        "colab": {
          "base_uri": "https://localhost:8080/"
        },
        "id": "0c56fb20",
        "outputId": "f7033773-7703-40d2-af99-0e8c5f55da88"
      },
      "outputs": [
        {
          "output_type": "stream",
          "name": "stdout",
          "text": [
            "Sentiment Analysis Results:\n",
            "neg: 0.0\n",
            "neu: 1.0\n",
            "pos: 0.0\n",
            "compound: 0.0\n"
          ]
        }
      ],
      "source": [
        "# Obtain polarity scores for the text\n",
        "polarity_scores = sia.polarity_scores(text)\n",
        "print(\"Sentiment Analysis Results:\")\n",
        "for score in polarity_scores:\n",
        "    print(f\"{score}: {polarity_scores[score]}\")"
      ]
    },
    {
      "cell_type": "code",
      "execution_count": 8,
      "id": "193168f1",
      "metadata": {
        "id": "193168f1"
      },
      "outputs": [],
      "source": [
        "# Topic Modeling with spaCy\n",
        "# Example text for topic modeling\n",
        "doc = nlp(\"spaCy is an industrial-strength natural language processing library.\")"
      ]
    },
    {
      "cell_type": "code",
      "execution_count": 9,
      "id": "40b705d4",
      "metadata": {
        "colab": {
          "base_uri": "https://localhost:8080/"
        },
        "id": "40b705d4",
        "outputId": "ba92a560-65d0-42e9-f566-d68d9c8fd5c9"
      },
      "outputs": [
        {
          "output_type": "stream",
          "name": "stdout",
          "text": [
            "\n",
            "Named Entities, Phrases, and Concepts:\n"
          ]
        }
      ],
      "source": [
        "# Print named entities found in the document\n",
        "print(\"\\nNamed Entities, Phrases, and Concepts:\")\n",
        "for ent in doc.ents:\n",
        "    print(f\"{ent.text} ({ent.label_})\")"
      ]
    },
    {
      "cell_type": "code",
      "execution_count": 10,
      "id": "3567e152",
      "metadata": {
        "colab": {
          "base_uri": "https://localhost:8080/",
          "height": 568
        },
        "id": "3567e152",
        "outputId": "ad402154-2126-462c-8575-ae655fe3cbfa"
      },
      "outputs": [
        {
          "output_type": "stream",
          "name": "stdout",
          "text": [
            "\n",
            "Dependency Parsing Visualization:\n"
          ]
        },
        {
          "output_type": "display_data",
          "data": {
            "text/plain": [
              "<IPython.core.display.HTML object>"
            ],
            "text/html": [
              "<span class=\"tex2jax_ignore\"><svg xmlns=\"http://www.w3.org/2000/svg\" xmlns:xlink=\"http://www.w3.org/1999/xlink\" xml:lang=\"en\" id=\"f8da518a9fb74b15830847aa9ac14781-0\" class=\"displacy\" width=\"1400\" height=\"512.0\" direction=\"ltr\" style=\"max-width: none; height: 512.0px; color: #000000; background: ghostwhite; font-family: Arial; direction: ltr\">\n",
              "<text class=\"displacy-token\" fill=\"currentColor\" text-anchor=\"middle\" y=\"422.0\">\n",
              "    <tspan class=\"displacy-word\" fill=\"currentColor\" x=\"50\">spaCy</tspan>\n",
              "    <tspan class=\"displacy-tag\" dy=\"2em\" fill=\"currentColor\" x=\"50\">INTJ</tspan>\n",
              "</text>\n",
              "\n",
              "<text class=\"displacy-token\" fill=\"currentColor\" text-anchor=\"middle\" y=\"422.0\">\n",
              "    <tspan class=\"displacy-word\" fill=\"currentColor\" x=\"200\">is</tspan>\n",
              "    <tspan class=\"displacy-tag\" dy=\"2em\" fill=\"currentColor\" x=\"200\">AUX</tspan>\n",
              "</text>\n",
              "\n",
              "<text class=\"displacy-token\" fill=\"currentColor\" text-anchor=\"middle\" y=\"422.0\">\n",
              "    <tspan class=\"displacy-word\" fill=\"currentColor\" x=\"350\">an</tspan>\n",
              "    <tspan class=\"displacy-tag\" dy=\"2em\" fill=\"currentColor\" x=\"350\">DET</tspan>\n",
              "</text>\n",
              "\n",
              "<text class=\"displacy-token\" fill=\"currentColor\" text-anchor=\"middle\" y=\"422.0\">\n",
              "    <tspan class=\"displacy-word\" fill=\"currentColor\" x=\"500\">industrial-</tspan>\n",
              "    <tspan class=\"displacy-tag\" dy=\"2em\" fill=\"currentColor\" x=\"500\">ADJ</tspan>\n",
              "</text>\n",
              "\n",
              "<text class=\"displacy-token\" fill=\"currentColor\" text-anchor=\"middle\" y=\"422.0\">\n",
              "    <tspan class=\"displacy-word\" fill=\"currentColor\" x=\"650\">strength</tspan>\n",
              "    <tspan class=\"displacy-tag\" dy=\"2em\" fill=\"currentColor\" x=\"650\">NOUN</tspan>\n",
              "</text>\n",
              "\n",
              "<text class=\"displacy-token\" fill=\"currentColor\" text-anchor=\"middle\" y=\"422.0\">\n",
              "    <tspan class=\"displacy-word\" fill=\"currentColor\" x=\"800\">natural</tspan>\n",
              "    <tspan class=\"displacy-tag\" dy=\"2em\" fill=\"currentColor\" x=\"800\">ADJ</tspan>\n",
              "</text>\n",
              "\n",
              "<text class=\"displacy-token\" fill=\"currentColor\" text-anchor=\"middle\" y=\"422.0\">\n",
              "    <tspan class=\"displacy-word\" fill=\"currentColor\" x=\"950\">language</tspan>\n",
              "    <tspan class=\"displacy-tag\" dy=\"2em\" fill=\"currentColor\" x=\"950\">NOUN</tspan>\n",
              "</text>\n",
              "\n",
              "<text class=\"displacy-token\" fill=\"currentColor\" text-anchor=\"middle\" y=\"422.0\">\n",
              "    <tspan class=\"displacy-word\" fill=\"currentColor\" x=\"1100\">processing</tspan>\n",
              "    <tspan class=\"displacy-tag\" dy=\"2em\" fill=\"currentColor\" x=\"1100\">NOUN</tspan>\n",
              "</text>\n",
              "\n",
              "<text class=\"displacy-token\" fill=\"currentColor\" text-anchor=\"middle\" y=\"422.0\">\n",
              "    <tspan class=\"displacy-word\" fill=\"currentColor\" x=\"1250\">library.</tspan>\n",
              "    <tspan class=\"displacy-tag\" dy=\"2em\" fill=\"currentColor\" x=\"1250\">NOUN</tspan>\n",
              "</text>\n",
              "\n",
              "<g class=\"displacy-arrow\">\n",
              "    <path class=\"displacy-arc\" id=\"arrow-f8da518a9fb74b15830847aa9ac14781-0-0\" stroke-width=\"2px\" d=\"M62,377.0 62,352.0 188.0,352.0 188.0,377.0\" fill=\"none\" stroke=\"currentColor\"/>\n",
              "    <text dy=\"1.25em\" style=\"font-size: 0.8em; letter-spacing: 1px\">\n",
              "        <textPath xlink:href=\"#arrow-f8da518a9fb74b15830847aa9ac14781-0-0\" class=\"displacy-label\" startOffset=\"50%\" side=\"left\" fill=\"currentColor\" text-anchor=\"middle\">nsubj</textPath>\n",
              "    </text>\n",
              "    <path class=\"displacy-arrowhead\" d=\"M62,379.0 L58,371.0 66,371.0\" fill=\"currentColor\"/>\n",
              "</g>\n",
              "\n",
              "<g class=\"displacy-arrow\">\n",
              "    <path class=\"displacy-arc\" id=\"arrow-f8da518a9fb74b15830847aa9ac14781-0-1\" stroke-width=\"2px\" d=\"M362,377.0 362,277.0 1247.0,277.0 1247.0,377.0\" fill=\"none\" stroke=\"currentColor\"/>\n",
              "    <text dy=\"1.25em\" style=\"font-size: 0.8em; letter-spacing: 1px\">\n",
              "        <textPath xlink:href=\"#arrow-f8da518a9fb74b15830847aa9ac14781-0-1\" class=\"displacy-label\" startOffset=\"50%\" side=\"left\" fill=\"currentColor\" text-anchor=\"middle\">det</textPath>\n",
              "    </text>\n",
              "    <path class=\"displacy-arrowhead\" d=\"M362,379.0 L358,371.0 366,371.0\" fill=\"currentColor\"/>\n",
              "</g>\n",
              "\n",
              "<g class=\"displacy-arrow\">\n",
              "    <path class=\"displacy-arc\" id=\"arrow-f8da518a9fb74b15830847aa9ac14781-0-2\" stroke-width=\"2px\" d=\"M512,377.0 512,352.0 638.0,352.0 638.0,377.0\" fill=\"none\" stroke=\"currentColor\"/>\n",
              "    <text dy=\"1.25em\" style=\"font-size: 0.8em; letter-spacing: 1px\">\n",
              "        <textPath xlink:href=\"#arrow-f8da518a9fb74b15830847aa9ac14781-0-2\" class=\"displacy-label\" startOffset=\"50%\" side=\"left\" fill=\"currentColor\" text-anchor=\"middle\">amod</textPath>\n",
              "    </text>\n",
              "    <path class=\"displacy-arrowhead\" d=\"M512,379.0 L508,371.0 516,371.0\" fill=\"currentColor\"/>\n",
              "</g>\n",
              "\n",
              "<g class=\"displacy-arrow\">\n",
              "    <path class=\"displacy-arc\" id=\"arrow-f8da518a9fb74b15830847aa9ac14781-0-3\" stroke-width=\"2px\" d=\"M662,377.0 662,302.0 1244.0,302.0 1244.0,377.0\" fill=\"none\" stroke=\"currentColor\"/>\n",
              "    <text dy=\"1.25em\" style=\"font-size: 0.8em; letter-spacing: 1px\">\n",
              "        <textPath xlink:href=\"#arrow-f8da518a9fb74b15830847aa9ac14781-0-3\" class=\"displacy-label\" startOffset=\"50%\" side=\"left\" fill=\"currentColor\" text-anchor=\"middle\">nmod</textPath>\n",
              "    </text>\n",
              "    <path class=\"displacy-arrowhead\" d=\"M662,379.0 L658,371.0 666,371.0\" fill=\"currentColor\"/>\n",
              "</g>\n",
              "\n",
              "<g class=\"displacy-arrow\">\n",
              "    <path class=\"displacy-arc\" id=\"arrow-f8da518a9fb74b15830847aa9ac14781-0-4\" stroke-width=\"2px\" d=\"M812,377.0 812,352.0 938.0,352.0 938.0,377.0\" fill=\"none\" stroke=\"currentColor\"/>\n",
              "    <text dy=\"1.25em\" style=\"font-size: 0.8em; letter-spacing: 1px\">\n",
              "        <textPath xlink:href=\"#arrow-f8da518a9fb74b15830847aa9ac14781-0-4\" class=\"displacy-label\" startOffset=\"50%\" side=\"left\" fill=\"currentColor\" text-anchor=\"middle\">amod</textPath>\n",
              "    </text>\n",
              "    <path class=\"displacy-arrowhead\" d=\"M812,379.0 L808,371.0 816,371.0\" fill=\"currentColor\"/>\n",
              "</g>\n",
              "\n",
              "<g class=\"displacy-arrow\">\n",
              "    <path class=\"displacy-arc\" id=\"arrow-f8da518a9fb74b15830847aa9ac14781-0-5\" stroke-width=\"2px\" d=\"M962,377.0 962,327.0 1241.0,327.0 1241.0,377.0\" fill=\"none\" stroke=\"currentColor\"/>\n",
              "    <text dy=\"1.25em\" style=\"font-size: 0.8em; letter-spacing: 1px\">\n",
              "        <textPath xlink:href=\"#arrow-f8da518a9fb74b15830847aa9ac14781-0-5\" class=\"displacy-label\" startOffset=\"50%\" side=\"left\" fill=\"currentColor\" text-anchor=\"middle\">compound</textPath>\n",
              "    </text>\n",
              "    <path class=\"displacy-arrowhead\" d=\"M962,379.0 L958,371.0 966,371.0\" fill=\"currentColor\"/>\n",
              "</g>\n",
              "\n",
              "<g class=\"displacy-arrow\">\n",
              "    <path class=\"displacy-arc\" id=\"arrow-f8da518a9fb74b15830847aa9ac14781-0-6\" stroke-width=\"2px\" d=\"M1112,377.0 1112,352.0 1238.0,352.0 1238.0,377.0\" fill=\"none\" stroke=\"currentColor\"/>\n",
              "    <text dy=\"1.25em\" style=\"font-size: 0.8em; letter-spacing: 1px\">\n",
              "        <textPath xlink:href=\"#arrow-f8da518a9fb74b15830847aa9ac14781-0-6\" class=\"displacy-label\" startOffset=\"50%\" side=\"left\" fill=\"currentColor\" text-anchor=\"middle\">compound</textPath>\n",
              "    </text>\n",
              "    <path class=\"displacy-arrowhead\" d=\"M1112,379.0 L1108,371.0 1116,371.0\" fill=\"currentColor\"/>\n",
              "</g>\n",
              "\n",
              "<g class=\"displacy-arrow\">\n",
              "    <path class=\"displacy-arc\" id=\"arrow-f8da518a9fb74b15830847aa9ac14781-0-7\" stroke-width=\"2px\" d=\"M212,377.0 212,252.0 1250.0,252.0 1250.0,377.0\" fill=\"none\" stroke=\"currentColor\"/>\n",
              "    <text dy=\"1.25em\" style=\"font-size: 0.8em; letter-spacing: 1px\">\n",
              "        <textPath xlink:href=\"#arrow-f8da518a9fb74b15830847aa9ac14781-0-7\" class=\"displacy-label\" startOffset=\"50%\" side=\"left\" fill=\"currentColor\" text-anchor=\"middle\">attr</textPath>\n",
              "    </text>\n",
              "    <path class=\"displacy-arrowhead\" d=\"M1250.0,379.0 L1254.0,371.0 1246.0,371.0\" fill=\"currentColor\"/>\n",
              "</g>\n",
              "</svg></span>"
            ]
          },
          "metadata": {}
        }
      ],
      "source": [
        "# Visualization of Dependency Parsing\n",
        "# Render the dependency parse in console-friendly format\n",
        "print(\"\\nDependency Parsing Visualization:\")\n",
        "displacy.render(doc, style='dep', options={'compact': True, 'bg': 'ghostwhite', 'color': '#000000'})"
      ]
    },
    {
      "cell_type": "code",
      "execution_count": 11,
      "id": "ac5e64f9",
      "metadata": {
        "colab": {
          "base_uri": "https://localhost:8080/"
        },
        "id": "ac5e64f9",
        "outputId": "023a46b8-895c-4213-9fec-f8e0ef8c499d"
      },
      "outputs": [
        {
          "output_type": "stream",
          "name": "stdout",
          "text": [
            "\n",
            "Noun Phrases:\n",
            "an industrial-strength natural language processing library\n"
          ]
        }
      ],
      "source": [
        "# Additional spaCy capabilities demonstration\n",
        "# Extracting noun phrases for more detailed analysis\n",
        "print(\"\\nNoun Phrases:\")\n",
        "for np in doc.noun_chunks:\n",
        "    print(np.text)"
      ]
    },
    {
      "cell_type": "code",
      "execution_count": 12,
      "id": "490ab964",
      "metadata": {
        "colab": {
          "base_uri": "https://localhost:8080/"
        },
        "id": "490ab964",
        "outputId": "f5c5e0a3-aceb-4f3a-c031-e69f29683ad5"
      },
      "outputs": [
        {
          "output_type": "stream",
          "name": "stdout",
          "text": [
            "\n",
            "Token-level analysis (Lemma, POS, Tag, Dep, Shape):\n",
            "spaCy (spacy, INTJ, UH, nsubj, xxxXx)\n",
            "is (be, AUX, VBZ, ROOT, xx)\n",
            "an (an, DET, DT, det, xx)\n",
            "industrial (industrial, ADJ, JJ, amod, xxxx)\n",
            "- (-, PUNCT, HYPH, punct, -)\n",
            "strength (strength, NOUN, NN, nmod, xxxx)\n",
            "natural (natural, ADJ, JJ, amod, xxxx)\n",
            "language (language, NOUN, NN, compound, xxxx)\n",
            "processing (processing, NOUN, NN, compound, xxxx)\n",
            "library (library, NOUN, NN, attr, xxxx)\n",
            ". (., PUNCT, ., punct, .)\n"
          ]
        }
      ],
      "source": [
        "# Advanced usage of spaCy for linguistic features\n",
        "print(\"\\nToken-level analysis (Lemma, POS, Tag, Dep, Shape):\")\n",
        "for token in doc:\n",
        "    print(f\"{token.text} ({token.lemma_}, {token.pos_}, {token.tag_}, {token.dep_}, {token.shape_})\")"
      ]
    },
    {
      "cell_type": "markdown",
      "source": [
        "# Part 3: Apply Your Skills - Advanced NLP Tasks\n",
        "\n",
        "In this part of the course, you will apply the skills you've learned from the previous section to perform advanced NLP tasks using NLTK and spaCy. This assignment encourages you to explore text analysis further by engaging in sentiment analysis and topic modeling with your own selected examples.\n",
        "\n",
        "## Setup:\n",
        "- Ensure you have NLTK and spaCy installed and configured with the necessary resources, as covered in Part 2.\n",
        "\n",
        "## Sentiment Analysis with NLTK:\n",
        "- Select a text of your choice, perhaps from a recent article, book, or a social media post.\n",
        "- Utilize the VADER sentiment intensity analyzer from NLTK to determine the sentiment expressed in your selected text.\n",
        "- Document the polarity scores and interpret what they imply about the text’s sentiment.\n",
        "\n",
        "## Topic Modeling with spaCy:\n",
        "- Choose a different text that offers potential for rich entity recognition and topic analysis.\n",
        "- Use spaCy to identify named entities and analyze their roles within the text.\n",
        "- Attempt to identify themes or topics prevalent in the text based on the entities and noun phrases extracted.\n",
        "\n",
        "## Advanced Analysis:\n",
        "- Explore further linguistic features using spaCy, such as dependency parsing and token analysis, to gain deeper insights into the grammatical structure and usage of words in your chosen text.\n",
        "- Visualize the dependency parse of sentences in your text to better understand their syntactic structure.\n",
        "\n",
        "## Instructions:\n",
        "1. Choose two different texts for analysis: one for sentiment analysis with NLTK and another for topic modeling with spaCy.\n",
        "2. Perform sentiment analysis on the first text, noting the overall sentiment and specific polarity scores.\n",
        "3. Conduct topic modeling on the second text, identifying key entities and themes.\n",
        "4. Use spaCy’s visualization tools to graphically represent the dependency parsing of your topic modeling text.\n",
        "5. Compile your steps and insights into the Jupyter notebook and submit it as your completed assignment."
      ],
      "metadata": {
        "id": "GSh5qyyJbO3p"
      },
      "id": "GSh5qyyJbO3p"
    }
  ],
  "metadata": {
    "jupytext": {
      "cell_metadata_filter": "-all",
      "main_language": "python",
      "notebook_metadata_filter": "-all"
    },
    "colab": {
      "provenance": []
    },
    "language_info": {
      "name": "python"
    },
    "kernelspec": {
      "name": "python3",
      "display_name": "Python 3"
    }
  },
  "nbformat": 4,
  "nbformat_minor": 5
}