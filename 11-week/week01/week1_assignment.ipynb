{
  "cells": [
    {
      "cell_type": "markdown",
      "id": "88262f77",
      "metadata": {
        "id": "88262f77"
      },
      "source": [
        "# Part1: Introduction to Big Data and Python Fundamentals\n",
        "\n",
        "\n",
        "## Definition and Scope:\n",
        "- Big Data encompasses the large-scale collection, processing, and analysis of data that exceeds the capability of traditional databases to manage.\n",
        "- Characterized by the three Vs:\n",
        "   * **Volume**: The quantity of data generated is massive, often in petabytes or exabytes.\n",
        "   * **Velocity**: Data flows at unprecedented speed, necessitating prompt processing.\n",
        "   * **Variety**: Data comes in various formats – structured, semi-structured, and unstructured (e.g., text, video, images).\n",
        "\n",
        "## Challenges:\n",
        "- **Storage**: Storing such large volumes of data efficiently.\n",
        "- **Analysis**: Quickly analyzing data to derive actionable insights.\n",
        "- **Privacy**: Ensuring the privacy and security of data while using it to gain insights.\n",
        "- **Integration**: Combining data from various sources and making it usable.\n",
        "\n",
        "## Importance:\n",
        "- Big Data analytics helps businesses to understand more about their operations, predict customer behavior, optimize operations, and personalize services.\n",
        "- In science and research, it allows for the analysis of complex phenomena which were previously infeasible to study.\n",
        "\n",
        "## Technological Foundations:\n",
        "- Technologies such as Hadoop and Spark are crucial for processing Big Data. They allow for distributed processing of data across many systems.\n",
        "\n",
        "## Python for Data Analysis:\n",
        "- Python is preferred for Big Data due to its simplicity and the powerful libraries it supports.\n",
        "\n",
        "## Key Python Libraries:\n",
        "   * **NumPy**: Supports large, multi-dimensional arrays and matrices, providing a broad range of mathematical functions to operate on these arrays.\n",
        "   * **Pandas**: Offers data manipulation and analysis capabilities, ideal for manipulating numerical tables and time series data.\n",
        "   * **Matplotlib/Seaborn**: These libraries are used for creating static, animated, and interactive visualizations in Python.\n",
        "\n",
        "## Applications:\n",
        "- **E-commerce**: Big Data analytics can track user interactions and improve customer service by personalizing experiences.\n",
        "- **Healthcare**: Enables predictive analytics for patient care and operational improvements in hospitals.\n",
        "- **Finance**: Used for risk analytics, fraud detection, and high-frequency trading strategies.\n",
        "\n",
        "## Conclusion:\n",
        "- Understanding and utilizing Big Data effectively is crucial for innovation and maintaining competitive advantage in today's data-driven world. Python, with its comprehensive ecosystem, plays a pivotal role in facilitating these processes."
      ]
    },
    {
      "cell_type": "markdown",
      "id": "e9cd52d2",
      "metadata": {
        "id": "e9cd52d2"
      },
      "source": [
        "# Part 2: Follow Me - Working with pandas on a Larger Dataset"
      ]
    },
    {
      "cell_type": "code",
      "execution_count": 11,
      "id": "fa2b2a98",
      "metadata": {
        "id": "fa2b2a98"
      },
      "outputs": [],
      "source": [
        "import numpy as np\n",
        "import pandas as pd"
      ]
    },
    {
      "cell_type": "code",
      "execution_count": 12,
      "id": "5bf0382f",
      "metadata": {
        "id": "5bf0382f"
      },
      "outputs": [],
      "source": [
        "# Load the \"E-commerce Transactions\" Dataset\n",
        "transactions_df = pd.read_csv('ecommerce.csv')"
      ]
    },
    {
      "cell_type": "code",
      "execution_count": 13,
      "id": "def2a0cb",
      "metadata": {
        "colab": {
          "base_uri": "https://localhost:8080/"
        },
        "id": "def2a0cb",
        "outputId": "cff2cd78-1121-4614-d1ab-b9a76b547414"
      },
      "outputs": [
        {
          "output_type": "stream",
          "name": "stdout",
          "text": [
            "Initial Data:\n",
            "   TransactionID  UserID  TransactionAmount      TransactionDate  \\\n",
            "0              1     861             240.18  2021-01-01 00:00:00   \n",
            "1              2    1295              21.52  2021-01-01 01:00:00   \n",
            "2              3    1131              53.83  2021-01-01 02:00:00   \n",
            "3              4    1096              59.58  2021-01-01 03:00:00   \n",
            "4              5    1639              91.38  2021-01-01 04:00:00   \n",
            "\n",
            "  ProductCategory  \n",
            "0           Books  \n",
            "1     Electronics  \n",
            "2     Electronics  \n",
            "3            Home  \n",
            "4     Electronics  \n"
          ]
        }
      ],
      "source": [
        "# Display the first few rows of the dataset to get an initial understanding of the data structure\n",
        "print(\"Initial Data:\")\n",
        "print(transactions_df.head())"
      ]
    },
    {
      "cell_type": "markdown",
      "id": "25c06db8",
      "metadata": {
        "id": "25c06db8"
      },
      "source": [
        "Data Manipulation in pandas:\n",
        "1. Selecting Specific Columns:\n",
        "We often need only a subset of the data to perform analysis. Here, we select two columns, 'TransactionAmount' and 'ProductCategory', to focus on the transaction details."
      ]
    },
    {
      "cell_type": "code",
      "execution_count": 14,
      "id": "82fee28d",
      "metadata": {
        "colab": {
          "base_uri": "https://localhost:8080/"
        },
        "id": "82fee28d",
        "outputId": "f182e0db-f3d6-48c0-89d5-ece5c79bc85a"
      },
      "outputs": [
        {
          "output_type": "stream",
          "name": "stdout",
          "text": [
            "\n",
            "Selected Columns:\n",
            "   TransactionAmount ProductCategory\n",
            "0             240.18           Books\n",
            "1              21.52     Electronics\n",
            "2              53.83     Electronics\n",
            "3              59.58            Home\n",
            "4              91.38     Electronics\n"
          ]
        }
      ],
      "source": [
        "print(\"\\nSelected Columns:\")\n",
        "transaction_details = transactions_df[['TransactionAmount', 'ProductCategory']]\n",
        "print(transaction_details.head())"
      ]
    },
    {
      "cell_type": "markdown",
      "id": "dfb585c1",
      "metadata": {
        "id": "dfb585c1"
      },
      "source": [
        "2. Adding a New Column for Data Categorization:\n",
        "Adding new columns based on conditions or calculations is a common task in data manipulation. Below, we categorize transactions into three groups ('Low', 'Medium', 'High') based on the transaction amount."
      ]
    },
    {
      "cell_type": "code",
      "execution_count": 15,
      "id": "32ff35c5",
      "metadata": {
        "colab": {
          "base_uri": "https://localhost:8080/"
        },
        "id": "32ff35c5",
        "outputId": "8d259dbd-9b05-4829-958a-7f7abe81ab8e"
      },
      "outputs": [
        {
          "output_type": "stream",
          "name": "stdout",
          "text": [
            "\n",
            "Categorized Transaction Amounts:\n",
            "   TransactionID  UserID  TransactionAmount      TransactionDate  \\\n",
            "0              1     861             240.18  2021-01-01 00:00:00   \n",
            "1              2    1295              21.52  2021-01-01 01:00:00   \n",
            "2              3    1131              53.83  2021-01-01 02:00:00   \n",
            "3              4    1096              59.58  2021-01-01 03:00:00   \n",
            "4              5    1639              91.38  2021-01-01 04:00:00   \n",
            "\n",
            "  ProductCategory AmountCategory  \n",
            "0           Books         Medium  \n",
            "1     Electronics            Low  \n",
            "2     Electronics            Low  \n",
            "3            Home            Low  \n",
            "4     Electronics            Low  \n"
          ]
        }
      ],
      "source": [
        "print(\"\\nCategorized Transaction Amounts:\")\n",
        "conditions = [\n",
        "    (transactions_df['TransactionAmount'] < 100),\n",
        "    (transactions_df['TransactionAmount'] <= 500),\n",
        "    (transactions_df['TransactionAmount'] > 500)\n",
        "]\n",
        "labels = ['Low', 'Medium', 'High']\n",
        "transactions_df['AmountCategory'] = np.select(conditions, labels)\n",
        "print(transactions_df.head())"
      ]
    },
    {
      "cell_type": "markdown",
      "id": "1dbf9b0e",
      "metadata": {
        "id": "1dbf9b0e"
      },
      "source": [
        "3. Filtering Data:\n",
        "Identifying high-value transactions is crucial for businesses focusing on revenue optimization. It helps in recognizing customer segments that contribute significantly to sales."
      ]
    },
    {
      "cell_type": "code",
      "execution_count": 16,
      "id": "da099db1",
      "metadata": {
        "colab": {
          "base_uri": "https://localhost:8080/"
        },
        "id": "da099db1",
        "outputId": "67496390-bfab-4999-838d-f2a8a5eba12e"
      },
      "outputs": [
        {
          "output_type": "stream",
          "name": "stdout",
          "text": [
            "\n",
            "High-Value Transactions:\n",
            "Empty DataFrame\n",
            "Columns: [TransactionID, UserID, TransactionAmount, TransactionDate, ProductCategory, AmountCategory]\n",
            "Index: []\n"
          ]
        }
      ],
      "source": [
        "print(\"\\nHigh-Value Transactions:\")\n",
        "high_value = transactions_df[transactions_df['TransactionAmount'] > 1000]\n",
        "print(high_value.head())"
      ]
    },
    {
      "cell_type": "markdown",
      "id": "81ad76dc",
      "metadata": {
        "id": "81ad76dc"
      },
      "source": [
        "4. Grouping and Aggregating Data:\n",
        "Understanding average transaction amounts by product category can inform targeted marketing strategies and product development. This step provides insights into which categories are more popular or lucrative."
      ]
    },
    {
      "cell_type": "code",
      "execution_count": 17,
      "id": "9778ad88",
      "metadata": {
        "colab": {
          "base_uri": "https://localhost:8080/"
        },
        "id": "9778ad88",
        "outputId": "35e69a8c-bcad-4da0-f9d0-1e09080ccb45"
      },
      "outputs": [
        {
          "output_type": "stream",
          "name": "stdout",
          "text": [
            "\n",
            "Average Transaction Amount by Product Category:\n",
            "ProductCategory\n",
            "Beauty          98.464359\n",
            "Books          101.944183\n",
            "Clothing        95.859881\n",
            "Electronics     99.356891\n",
            "Home            98.704538\n",
            "Name: TransactionAmount, dtype: float64\n"
          ]
        }
      ],
      "source": [
        "print(\"\\nAverage Transaction Amount by Product Category:\")\n",
        "avg_transaction = transactions_df.groupby('ProductCategory')['TransactionAmount'].mean()\n",
        "print(avg_transaction)"
      ]
    },
    {
      "cell_type": "code",
      "execution_count": 18,
      "id": "0cd02059",
      "metadata": {
        "id": "0cd02059"
      },
      "outputs": [],
      "source": [
        "# Visualization example:\n",
        "import matplotlib.pyplot as plt"
      ]
    },
    {
      "cell_type": "code",
      "execution_count": 19,
      "id": "f96098ec",
      "metadata": {
        "colab": {
          "base_uri": "https://localhost:8080/",
          "height": 472
        },
        "id": "f96098ec",
        "outputId": "1fccf81a-3e20-4285-cec2-79281b54bf72"
      },
      "outputs": [
        {
          "output_type": "display_data",
          "data": {
            "text/plain": [
              "<Figure size 640x480 with 1 Axes>"
            ],
            "image/png": "[encoded data removed]"
          },
          "metadata": {}
        }
      ],
      "source": [
        "plt.hist(transactions_df['TransactionAmount'], bins=50)\n",
        "plt.title('Distribution of Transaction Amounts')\n",
        "plt.xlabel('Transaction Amount')\n",
        "plt.ylabel('Frequency')\n",
        "plt.show()"
      ]
    },
    {
      "cell_type": "markdown",
      "id": "ddce6325",
      "metadata": {
        "id": "ddce6325"
      },
      "source": [
        "# Part 3: Your Turn - Advanced Data Analysis Tasks\n",
        "\n",
        "In this part, you'll be working with the 'Customer Behavior' dataset. This task will challenge you to apply the skills you've learned to tackle real-world data complications, including missing values and inconsistencies.\n",
        "\n",
        "## Data Cleaning:\n",
        "- You may encounter missing data. Assess the situation and decide whether to impute these values or to drop the rows/columns, depending on what's needed for your analysis.\n",
        "- Look for any inconsistencies or outliers in the dataset that might skew your analysis and address them accordingly.\n",
        "\n",
        "## Feature Engineering:\n",
        "- Think about how you can create new columns from the existing data to provide new insights. For example, you might aggregate session data to calculate user-level metrics.\n",
        "\n",
        "## Advanced Aggregations:\n",
        "- Use `groupby` to group the data by multiple dimensions. This can help you uncover more complex trends and patterns that may not be immediately obvious.\n",
        "\n",
        "## Visualization:\n",
        "- With Matplotlib or Seaborn, create visual representations of the trends and patterns you find in the data. A well-chosen graph can be worth a thousand numbers.\n",
        "\n",
        "## Instructions:\n",
        "1. Load the dataset into a pandas DataFrame from the path provided.\n",
        "2. Conduct the necessary data cleaning processes.\n",
        "3. Use aggregation to uncover interesting trends and patterns in the data.\n",
        "4. Choose at least one graph to visualize the data and support your findings.\n",
        "5. Compile your steps and insights into the Jupyter notebook and submit it as your completed assignment."
      ]
    },
    {
      "cell_type": "code",
      "execution_count": 21,
      "id": "3036af8a",
      "metadata": {
        "id": "3036af8a"
      },
      "outputs": [],
      "source": [
        "# Note: Replace 'customer_behavior.csv' with the actual file path.\n",
        "customer_behavior_df = pd.read_csv('customer_behavior.csv')"
      ]
    }
  ],
  "metadata": {
    "jupytext": {
      "cell_metadata_filter": "-all",
      "main_language": "python",
      "notebook_metadata_filter": "-all"
    },
    "colab": {
      "provenance": []
    },
    "language_info": {
      "name": "python"
    },
    "kernelspec": {
      "name": "python3",
      "display_name": "Python 3"
    }
  },
  "nbformat": 4,
  "nbformat_minor": 5
}