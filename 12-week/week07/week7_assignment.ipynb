{
  "cells": [
    {
      "cell_type": "markdown",
      "source": [
        "# Part 1: Deep Learning Applications in Big Data\n",
        "Introduction to Neural Networks:\n",
        "- At the heart of deep learning, neural networks are inspired by the structure and function of the brain. They consist of layers of nodes or \"neurons,\" each designed to perform specific types of transformations on their inputs. Data flows through these layers, enabling the network to learn complex patterns in large datasets.\n",
        "\n",
        "Core Components of Neural Networks:\n",
        "- Neurons: Basic units of computation in a neural network, receiving input, processing it, and passing the output to the next layer.\n",
        "- Layers: Made up of neurons. Neural networks typically have three types of layers:\n",
        "    1. Input Layer: Receives the initial data.\n",
        "    2. Hidden Layers: Intermediate layers where most processing occurs. The depth (number of layers) and width (number of neurons per layer) define the network's capacity.\n",
        "    3. Output Layer: Produces the final predictions or classifications.\n",
        "\n",
        "Understanding Layers:\n",
        "- Dense (Fully Connected) Layers: Every neuron in one layer is connected to every neuron in the next layer, commonly used for tabular data.\n",
        "- Convolutional Layers: Primarily used in image processing, they apply a convolution operation to the input, preserving the spatial relationship between pixels.\n",
        "- Recurrent Layers: Suited for sequential data (e.g., text, time series), these layers have connections feeding back into themselves, allowing them to maintain a 'memory' of previous inputs.\n",
        "- Flatten Layer: Converts multi-dimensional inputs into a single dimension, often used as a bridge between convolutional layers and fully connected layers.\n",
        "\n",
        "Key Concepts:\n",
        "- Activation Function: Determines whether a neuron should be activated or not, adding non-linearity to the learning process.\n",
        "- Backpropagation: A method for updating the network's weights effectively, based on the error rate obtained in the previous epoch (iteration).\n",
        "- Loss Function: Measures how well the model is performing, a function that the training process aims to minimize.\n",
        "- Optimizer: Determines how the network will be updated based on the loss function. Common optimizers include SGD, Adam, and RMSprop.\n",
        "\n",
        "Input and Output Shapes:\n",
        "- Input Shape: The shape or dimensionality of the initial data fed into the network. For example, in image processing, this could be the dimensions of the image and its color channels (e.g., 28x28x3 for a 28-pixel square image with three color channels).\n",
        "- Output Shape: The shape of the final layer, which depends on the task. For a classification task, this would typically be the number of classes.\n",
        "\n",
        "TensorFlow and Keras:\n",
        "- TensorFlow provides a comprehensive ecosystem of tools and libraries for building and training complex neural networks.\n",
        "- Keras, now integrated into TensorFlow as tf.keras, offers a high-level API that makes it easy to construct, train, and deploy neural network models.\n",
        "\n",
        "Applications and Challenges:\n",
        "- Neural networks are revolutionizing fields such as computer vision, natural language processing, and more. However, they require significant data and computational power, and their \"black box\" nature can make them difficult to interpret.\n"
      ],
      "metadata": {
        "id": "jQJMMaS0ZhN8"
      },
      "id": "jQJMMaS0ZhN8"
    },
    {
      "cell_type": "markdown",
      "id": "260f1fd5",
      "metadata": {
        "id": "260f1fd5"
      },
      "source": [
        "# Part 2: Follow Me - Building a Deep Learning Model with TensorFlow and Keras"
      ]
    },
    {
      "cell_type": "code",
      "execution_count": 1,
      "id": "98539546",
      "metadata": {
        "id": "98539546"
      },
      "outputs": [],
      "source": [
        "# Import necessary libraries\n",
        "import tensorflow as tf\n",
        "from tensorflow.keras.models import Sequential\n",
        "from tensorflow.keras.layers import Input, Dense, Flatten\n",
        "import pandas as pd\n",
        "import numpy as np"
      ]
    },
    {
      "cell_type": "code",
      "execution_count": 2,
      "id": "0a3f0ac4",
      "metadata": {
        "id": "0a3f0ac4"
      },
      "outputs": [],
      "source": [
        "# Load custom dataset\n",
        "data_path = 'customer_transactions.csv'\n",
        "data = pd.read_csv(data_path)\n",
        "features = data.drop('Label', axis=1).values\n",
        "labels = data['Label'].values"
      ]
    },
    {
      "cell_type": "code",
      "execution_count": 3,
      "id": "fe62fc0e",
      "metadata": {
        "id": "fe62fc0e"
      },
      "outputs": [],
      "source": [
        "# Normalize the features to have mean 0 and variance 1\n",
        "features = (features - np.mean(features, axis=0)) / np.std(features, axis=0)"
      ]
    },
    {
      "cell_type": "code",
      "execution_count": 4,
      "id": "8d5359a2",
      "metadata": {
        "id": "8d5359a2"
      },
      "outputs": [],
      "source": [
        "# Split the dataset into training and testing sets\n",
        "from sklearn.model_selection import train_test_split\n",
        "x_train, x_test, y_train, y_test = train_test_split(features, labels, test_size=0.2, random_state=42)"
      ]
    },
    {
      "cell_type": "code",
      "execution_count": 5,
      "id": "34d3d609",
      "metadata": {
        "id": "34d3d609"
      },
      "outputs": [],
      "source": [
        "# Building the neural network model\n",
        "model = Sequential([\n",
        "    Input(shape=(features.shape[1],)),\n",
        "    Dense(128, activation='relu'),\n",
        "    Dense(10, activation='softmax')\n",
        "])"
      ]
    },
    {
      "cell_type": "code",
      "execution_count": 6,
      "id": "7445bdf5",
      "metadata": {
        "id": "7445bdf5"
      },
      "outputs": [],
      "source": [
        "# Compiling the model\n",
        "model.compile(optimizer='adam',\n",
        "              loss='sparse_categorical_crossentropy',\n",
        "              metrics=['accuracy'])"
      ]
    },
    {
      "cell_type": "code",
      "execution_count": 7,
      "id": "b9c273de",
      "metadata": {
        "colab": {
          "base_uri": "https://localhost:8080/"
        },
        "id": "b9c273de",
        "outputId": "1c6bb861-3d50-4d80-ecfc-6ffa0a5d0837"
      },
      "outputs": [
        {
          "output_type": "stream",
          "name": "stdout",
          "text": [
            "Epoch 1/5\n",
            "250/250 [==============================] - 1s 3ms/step - loss: 2.3174 - accuracy: 0.1023\n",
            "Epoch 2/5\n",
            "250/250 [==============================] - 1s 3ms/step - loss: 2.3037 - accuracy: 0.1133\n",
            "Epoch 3/5\n",
            "250/250 [==============================] - 0s 1ms/step - loss: 2.2999 - accuracy: 0.1208\n",
            "Epoch 4/5\n",
            "250/250 [==============================] - 0s 2ms/step - loss: 2.2970 - accuracy: 0.1160\n",
            "Epoch 5/5\n",
            "250/250 [==============================] - 0s 2ms/step - loss: 2.2950 - accuracy: 0.1194\n"
          ]
        },
        {
          "output_type": "execute_result",
          "data": {
            "text/plain": [
              "<keras.src.callbacks.History at 0x7b146c6575e0>"
            ]
          },
          "metadata": {},
          "execution_count": 7
        }
      ],
      "source": [
        "# Training the model\n",
        "epochs = 5\n",
        "model.fit(x_train, y_train, epochs=epochs, verbose=1)"
      ]
    },
    {
      "cell_type": "code",
      "execution_count": 8,
      "id": "8713a2df",
      "metadata": {
        "colab": {
          "base_uri": "https://localhost:8080/"
        },
        "id": "8713a2df",
        "outputId": "29501846-4eed-4e94-818c-2eb546d295e1"
      },
      "outputs": [
        {
          "output_type": "stream",
          "name": "stdout",
          "text": [
            "63/63 [==============================] - 0s 1ms/step - loss: 2.3134 - accuracy: 0.0970\n",
            "Test Loss: 2.3134\n",
            "Test Accuracy: 0.0970\n"
          ]
        }
      ],
      "source": [
        "# Evaluating the model\n",
        "test_loss, test_accuracy = model.evaluate(x_test, y_test)\n",
        "print(f'Test Loss: {test_loss:.4f}')\n",
        "print(f'Test Accuracy: {test_accuracy:.4f}')"
      ]
    },
    {
      "cell_type": "markdown",
      "source": [
        "# Part 3: Your Turn - Advanced Data Analysis Tasks\n",
        "\n",
        "In this part, you'll be working with the 'credit_scores.csv' dataset. This task challenges you to apply deep learning skills to real-world financial data complications, focusing on predicting customer default status.\n",
        "\n",
        "## Data Preprocessing:\n",
        "- Load the 'Credit Scores' dataset and prepare it for training. Normalize numerical data and encode categorical data if present to handle any inconsistencies or missing values.\n",
        "\n",
        "## Model Design:\n",
        "- Design a deep neural network using TensorFlow and Keras that is suitable for predicting binary outcomes like customer default status. Consider using dense layers, dropout, and batch normalization to optimize the model's performance.\n",
        "\n",
        "## Training and Validation:\n",
        "- Split the data into training and validation sets to monitor the model's performance during training. Implement techniques such as early stopping or model checkpointing to enhance training efficiency.\n",
        "\n",
        "## Evaluation and Testing:\n",
        "- Evaluate your model on a test dataset to assess how well it can predict customer defaults. Discuss the performance and identify any areas for improvement.\n",
        "\n",
        "## Optimization:\n",
        "- Experiment with different model architectures, adjust hyperparameters, and employ various training techniques to refine your model's accuracy and efficiency.\n",
        "\n",
        "## Instructions:\n",
        "1. Load the dataset into a DataFrame.\n",
        "2. Preprocess the data to ensure it is ready for training.\n",
        "3. Design and train the neural network, utilizing a validation set to monitor performance.\n",
        "4. Evaluate the model on the test set and analyze the results.\n",
        "5. Optimize the model by experimenting with different configurations and training approaches.\n",
        "6. Compile your entire workflow and insights into a Jupyter notebook and submit it as your completed assignment.\n"
      ],
      "metadata": {
        "id": "94_vVJqCaH_q"
      },
      "id": "94_vVJqCaH_q"
    },
    {
      "cell_type": "code",
      "source": [
        "# Note: Replace 'credit_scores.csv' with the actual file path.\n",
        "credit_score_df = pd.read_csv('credit_scores.csv')"
      ],
      "metadata": {
        "id": "crkh-g05mjf2"
      },
      "id": "crkh-g05mjf2",
      "execution_count": 9,
      "outputs": []
    }
  ],
  "metadata": {
    "jupytext": {
      "cell_metadata_filter": "-all",
      "main_language": "python",
      "notebook_metadata_filter": "-all"
    },
    "colab": {
      "provenance": []
    },
    "language_info": {
      "name": "python"
    },
    "kernelspec": {
      "name": "python3",
      "display_name": "Python 3"
    }
  },
  "nbformat": 4,
  "nbformat_minor": 5
}