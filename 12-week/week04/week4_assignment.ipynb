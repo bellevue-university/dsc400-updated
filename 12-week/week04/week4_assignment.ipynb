{
  "cells": [
    {
      "cell_type": "markdown",
      "id": "9e623cc8",
      "metadata": {
        "id": "9e623cc8"
      },
      "source": [
        "# Part 1: Database Management for Big Data\n",
        "\n",
        "## Introduction to Database Management\n",
        "- Big data projects often require databases that can handle large, varied, and rapidly changing datasets.\n",
        "- NoSQL databases like TinyDB offer flexibility, speed, and scalability, making them suitable for big data applications.\n",
        "\n",
        "## Importance of NoSQL Databases\n",
        "- **Flexibility:** NoSQL databases allow a variety of data models, including key-value, document, graph, and wide-column stores, which makes them adaptable to various data types and structures.\n",
        "- **Scalability:** Designed to scale out by using distributed architecture, which is critical for big data environments.\n",
        "- **Schema-less:** NoSQL databases do not require a predefined schema, allowing you to work with unstructured data.\n",
        "\n",
        "## Python Library: TinyDB\n",
        "- TinyDB is a lightweight, document-oriented database optimized for small projects and prototyping within Python environments. It stores data in JSON format, providing an easy and flexible way to manage data.\n",
        "\n",
        "## Key Concepts in NoSQL with TinyDB\n",
        "- **Document-Oriented Storage:** Data is stored in documents that are grouped into collections. Each document can contain different data types.\n",
        "- **CRUD Operations:** TinyDB supports basic CRUD (Create, Read, Update, Delete) operations which are fundamental for database management.\n",
        "- **Querying:** TinyDB provides a powerful querying mechanism to fetch and manipulate data efficiently.\n",
        "\n",
        "## Real-World Application: Inventory Management\n",
        "- NoSQL databases are particularly useful in scenarios like inventory management for e-commerce or retail businesses, where data structures can vary and rapid changes are common.\n"
      ]
    },
    {
      "cell_type": "markdown",
      "id": "cd38ad1b",
      "metadata": {
        "id": "cd38ad1b"
      },
      "source": [
        "# Part 2: Follow Me - Managing a Hardware Store Inventory with TinyDB"
      ]
    },
    {
      "cell_type": "code",
      "source": [
        "#! pip install tinydb"
      ],
      "metadata": {
        "colab": {
          "base_uri": "https://localhost:8080/"
        },
        "id": "xFHSMZV1fK6S",
        "outputId": "b3cbd55c-5620-4ac7-96e6-e734111f7576"
      },
      "id": "xFHSMZV1fK6S",
      "execution_count": null,
      "outputs": [
        {
          "output_type": "stream",
          "name": "stdout",
          "text": [
            "Collecting tinydb\n",
            "  Downloading tinydb-4.8.0-py3-none-any.whl (24 kB)\n",
            "Installing collected packages: tinydb\n",
            "Successfully installed tinydb-4.8.0\n"
          ]
        }
      ]
    },
    {
      "cell_type": "code",
      "execution_count": null,
      "id": "c2d24822",
      "metadata": {
        "id": "c2d24822"
      },
      "outputs": [],
      "source": [
        "from tinydb import TinyDB, Query"
      ]
    },
    {
      "cell_type": "markdown",
      "id": "837dfa4f",
      "metadata": {
        "id": "837dfa4f"
      },
      "source": [
        "Installation instructions (to be executed in the shell environment):\n",
        "pip install tinydb"
      ]
    },
    {
      "cell_type": "code",
      "execution_count": null,
      "id": "d0af1755",
      "metadata": {
        "id": "d0af1755"
      },
      "outputs": [],
      "source": [
        "# Step 1: Initialize the TinyDB Database\n",
        "# 'inventory_db.json' will be the file where all our data is stored. TinyDB uses this file to store data in JSON format.\n",
        "db = TinyDB('inventory_db.json')"
      ]
    },
    {
      "cell_type": "code",
      "execution_count": null,
      "id": "d6d7591f",
      "metadata": {
        "colab": {
          "base_uri": "https://localhost:8080/"
        },
        "id": "d6d7591f",
        "outputId": "2822db8a-92e7-4cc9-f584-9931e12161d4"
      },
      "outputs": [
        {
          "output_type": "execute_result",
          "data": {
            "text/plain": [
              "3"
            ]
          },
          "metadata": {},
          "execution_count": 5
        }
      ],
      "source": [
        "# Step 2: Inserting Items into the Inventory\n",
        "# Here we insert multiple items into the database. Each item is a 'document' in TinyDB terminology.\n",
        "# The documents are schema-less, which means each document can have a different structure,\n",
        "# but we maintain a consistent structure to simplify our inventory system.\n",
        "db.insert({'type': 'tool', 'name': 'hammer', 'quantity': 75, 'price': 22.50})\n",
        "db.insert({'type': 'tool', 'name': 'screwdriver', 'quantity': 50, 'price': 9.99})\n",
        "db.insert({'type': 'material', 'name': 'nail', 'quantity': 1000, 'price': 0.10})"
      ]
    },
    {
      "cell_type": "markdown",
      "id": "e7839374",
      "metadata": {
        "id": "e7839374"
      },
      "source": [
        "Explanation of Schema:\n",
        "Each document here represents an inventory item with four fields:\n",
        "- type (string): Category of the item (e.g., tool, material).\n",
        "- name (string): The specific name of the item (e.g., hammer, nail).\n",
        "- quantity (integer): The number of items in stock.\n",
        "- price (float): The cost of one item."
      ]
    },
    {
      "cell_type": "code",
      "execution_count": null,
      "id": "f90a9fe3",
      "metadata": {
        "colab": {
          "base_uri": "https://localhost:8080/"
        },
        "id": "f90a9fe3",
        "outputId": "eda56eb8-1644-4b9b-e72d-65bb04583d49"
      },
      "outputs": [
        {
          "output_type": "stream",
          "name": "stdout",
          "text": [
            "Available Tools: [{'type': 'tool', 'name': 'hammer', 'quantity': 75, 'price': 22.5}, {'type': 'tool', 'name': 'screwdriver', 'quantity': 50, 'price': 9.99}]\n"
          ]
        }
      ],
      "source": [
        "# Step 3: Querying Tools in the Inventory\n",
        "# We use TinyDB's Query object to search through the database.\n",
        "# This example demonstrates how to find all items where the 'type' is 'tool'.\n",
        "Item = Query()\n",
        "tools = db.search(Item.type == 'tool')\n",
        "print(\"Available Tools:\", tools)"
      ]
    },
    {
      "cell_type": "code",
      "execution_count": null,
      "id": "8abdcf36",
      "metadata": {
        "colab": {
          "base_uri": "https://localhost:8080/"
        },
        "id": "8abdcf36",
        "outputId": "3391b397-534f-4b83-836a-3a41136983b9"
      },
      "outputs": [
        {
          "output_type": "execute_result",
          "data": {
            "text/plain": [
              "[1]"
            ]
          },
          "metadata": {},
          "execution_count": 7
        }
      ],
      "source": [
        "# Step 4: Updating the Quantity of Hammers\n",
        "# Updates are performed by specifying a condition and the new data to apply.\n",
        "# Here, we update the quantity of 'hammer' by setting it to 100.\n",
        "db.update({'quantity': 100}, Item.name == 'hammer')"
      ]
    },
    {
      "cell_type": "code",
      "execution_count": null,
      "id": "69e167f6",
      "metadata": {
        "colab": {
          "base_uri": "https://localhost:8080/"
        },
        "id": "69e167f6",
        "outputId": "f16707bc-4209-48c1-e1e3-5ffab66d3300"
      },
      "outputs": [
        {
          "output_type": "execute_result",
          "data": {
            "text/plain": [
              "[3]"
            ]
          },
          "metadata": {},
          "execution_count": 8
        }
      ],
      "source": [
        "# Step 5: Removing Discontinued Items\n",
        "# To remove an item, we specify a condition that matches the item to be removed.\n",
        "# This command removes the item 'nail' from the database.\n",
        "db.remove(Item.name == 'nail')"
      ]
    },
    {
      "cell_type": "code",
      "source": [
        "\n",
        "# Query 1: Find all items with a quantity less than 100\n",
        "low_stock_items = db.search(Item.quantity < 100)\n",
        "print(\"Items with Low Stock:\", low_stock_items)"
      ],
      "metadata": {
        "colab": {
          "base_uri": "https://localhost:8080/"
        },
        "id": "fk9-0rA1fy-B",
        "outputId": "0ae8cf8a-7435-448a-d60a-d396c283fccb"
      },
      "id": "fk9-0rA1fy-B",
      "execution_count": null,
      "outputs": [
        {
          "output_type": "stream",
          "name": "stdout",
          "text": [
            "Items with Low Stock: [{'type': 'tool', 'name': 'screwdriver', 'quantity': 50, 'price': 9.99}]\n"
          ]
        }
      ]
    },
    {
      "cell_type": "code",
      "source": [
        "# Query 2: Find all items with a price over $10\n",
        "high_price_items = db.search(Item.price > 10)\n",
        "print(\"High Priced Items:\", high_price_items)\n"
      ],
      "metadata": {
        "colab": {
          "base_uri": "https://localhost:8080/"
        },
        "id": "gSMiLvDwfz_f",
        "outputId": "55a86c7c-b22a-42ba-c0dd-6099e4c6b2d7"
      },
      "id": "gSMiLvDwfz_f",
      "execution_count": null,
      "outputs": [
        {
          "output_type": "stream",
          "name": "stdout",
          "text": [
            "High Priced Items: [{'type': 'tool', 'name': 'hammer', 'quantity': 100, 'price': 22.5}]\n"
          ]
        }
      ]
    },
    {
      "cell_type": "code",
      "source": [
        "# Query 3: Count of all tools in the inventory\n",
        "tool_count = len(db.search(Item.type == 'tool'))\n",
        "print(\"Total Number of Tools:\", tool_count)"
      ],
      "metadata": {
        "colab": {
          "base_uri": "https://localhost:8080/"
        },
        "id": "kvOP54OTf0-i",
        "outputId": "906b3d3a-c6a6-443d-ea17-05d0c39c0f91"
      },
      "id": "kvOP54OTf0-i",
      "execution_count": null,
      "outputs": [
        {
          "output_type": "stream",
          "name": "stdout",
          "text": [
            "Total Number of Tools: 2\n"
          ]
        }
      ]
    },
    {
      "cell_type": "markdown",
      "id": "0babf074",
      "metadata": {
        "id": "0babf074"
      },
      "source": [
        "# Part 3: Your Turn - Advanced Database Management Task\n",
        "\n",
        "This part of the course will engage you in a real-world database management project. You'll apply the techniques you've learned to design and manage a database using TinyDB, handling various data complexities such as schema design, complex queries, and data relationships.\n",
        "\n",
        "## Database Design:\n",
        "- Design a database schema that fits a real-world application scenario you choose (e.g., a bookstore, a sports team management system, a personal contacts manager). Although TinyDB is schema-less, plan a logical structure for your documents to ensure consistency.\n",
        "\n",
        "## Complex Queries:\n",
        "- Develop complex queries that can handle multiple fields and conditions to extract meaningful information from the database.\n",
        "\n",
        "## Data Relationships:\n",
        "- Implement and manage one-to-many and many-to-many relationships between documents. For instance, in a bookstore, a single author might have multiple books.\n",
        "\n",
        "## Data Integrity:\n",
        "- Ensure the integrity of your database by implementing checks that prevent the insertion of duplicate or conflicting data.\n",
        "\n",
        "## Performance Evaluation:\n",
        "- Assess and document the performance of your database system, particularly focusing on the efficiency of your queries and the scalability of your database design.\n",
        "\n",
        "## Aggregation and Reporting:\n",
        "- Utilize TinyDB's functionalities to perform data aggregations, akin to SQL's 'GROUP BY', and generate reports that summarize key aspects of your data.\n",
        "\n",
        "## Instructions:\n",
        "1. Choose a real-world application scenario and design a database schema that fits the needs of this scenario.\n",
        "2. Populate your database with initial data and implement the database operations required to manage this data.\n",
        "3. Create complex queries and manage data relationships within your database.\n",
        "4. Assess the performance of your database system and make necessary adjustments.\n",
        "5. Compile your steps and insights into the Jupyter notebook and submit it as your completed assignment."
      ]
    }
  ],
  "metadata": {
    "jupytext": {
      "cell_metadata_filter": "-all",
      "main_language": "python",
      "notebook_metadata_filter": "-all"
    },
    "colab": {
      "provenance": []
    },
    "language_info": {
      "name": "python"
    },
    "kernelspec": {
      "name": "python3",
      "display_name": "Python 3"
    }
  },
  "nbformat": 4,
  "nbformat_minor": 5
}